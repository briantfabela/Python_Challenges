{
 "cells": [
  {
   "cell_type": "code",
   "execution_count": 23,
   "metadata": {},
   "outputs": [],
   "source": [
    "from random import randint, sample, shuffle, choice"
   ]
  },
  {
   "cell_type": "code",
   "execution_count": 29,
   "metadata": {},
   "outputs": [],
   "source": [
    "class Card:\n",
    "    '''A card object including number and color'''\n",
    "    \n",
    "    def __init__(self, number, color):\n",
    "        \n",
    "        self.num = number\n",
    "        self.color = color\n",
    "        \n",
    "class Deck:\n",
    "    '''A deck of cards'''\n",
    "    \n",
    "    def __init__(self, card_array=[], populate=0):\n",
    "        \n",
    "        # if any cards are passed in the card array list, they will be added to the beginning of the list\n",
    "        self.cards = []\n",
    "        self.size = len(card_array)\n",
    "        \n",
    "        # populate will add its int amount of cards into the deck\n",
    "        for i in range(populate):\n",
    "            self.cards.append(Card(randint(0,9), choice(['Blue', 'Green', 'Red', 'Yellow', 'White', 'Black'])))\n",
    "        \n",
    "    def clear(self):\n",
    "        '''Removes all cards from the deck'''\n",
    "        self.cards = []\n",
    "        \n",
    "    def shuffle(self):\n",
    "        '''Shuffles the order of the cards'''\n",
    "        shuffle(self.cards)\n",
    "    \n",
    "    def discard(self, n):\n",
    "        '''Removes n amount of cards from the top (index 0) of the deck'''\n",
    "        del self.cards[0:n]\n",
    "        \n",
    "    def display(self):\n",
    "        '''Prints a list of the cards and their numbers'''\n",
    "        for card in self.cards:\n",
    "            print(card.num, card.color)"
   ]
  },
  {
   "cell_type": "code",
   "execution_count": 30,
   "metadata": {},
   "outputs": [],
   "source": [
    "x = Deck(populate=10)"
   ]
  },
  {
   "cell_type": "code",
   "execution_count": 28,
   "metadata": {},
   "outputs": [
    {
     "name": "stdout",
     "output_type": "stream",
     "text": [
      "8 Black\n",
      "2 Black\n",
      "1 Yellow\n",
      "9 Red\n",
      "7 Red\n",
      "5 Yellow\n",
      "4 Blue\n",
      "2 Yellow\n",
      "7 Red\n",
      "6 Red\n"
     ]
    }
   ],
   "source": [
    "for i in x.cards:\n",
    "    print(i.num, i.color)"
   ]
  },
  {
   "cell_type": "code",
   "execution_count": 32,
   "metadata": {},
   "outputs": [
    {
     "name": "stdout",
     "output_type": "stream",
     "text": [
      "0 White\n",
      "6 White\n",
      "6 Blue\n",
      "4 White\n",
      "0 Blue\n",
      "1 Red\n",
      "5 Red\n",
      "4 White\n",
      "0 Yellow\n",
      "8 Green\n"
     ]
    }
   ],
   "source": [
    "x.display()"
   ]
  },
  {
   "cell_type": "code",
   "execution_count": 33,
   "metadata": {},
   "outputs": [
    {
     "name": "stdout",
     "output_type": "stream",
     "text": [
      "6 Blue\n",
      "5 Red\n",
      "6 White\n",
      "0 Yellow\n",
      "4 White\n",
      "0 Blue\n",
      "1 Red\n",
      "8 Green\n",
      "0 White\n",
      "4 White\n"
     ]
    }
   ],
   "source": [
    "x.shuffle()\n",
    "x.display()"
   ]
  },
  {
   "cell_type": "code",
   "execution_count": null,
   "metadata": {},
   "outputs": [],
   "source": []
  }
 ],
 "metadata": {
  "kernelspec": {
   "display_name": "Python 3",
   "language": "python",
   "name": "python3"
  },
  "language_info": {
   "codemirror_mode": {
    "name": "ipython",
    "version": 3
   },
   "file_extension": ".py",
   "mimetype": "text/x-python",
   "name": "python",
   "nbconvert_exporter": "python",
   "pygments_lexer": "ipython3",
   "version": "3.7.3"
  }
 },
 "nbformat": 4,
 "nbformat_minor": 2
}
