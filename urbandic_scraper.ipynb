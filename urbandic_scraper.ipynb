{
 "cells": [
  {
   "cell_type": "code",
   "execution_count": 100,
   "metadata": {},
   "outputs": [],
   "source": [
    "import urllib.request\n",
    "import json\n",
    "import xml\n",
    "from bs4 import BeautifulSoup"
   ]
  },
  {
   "cell_type": "code",
   "execution_count": 102,
   "metadata": {},
   "outputs": [],
   "source": [
    "term = 'sista'\n",
    "link = \"https://www.urbandictionary.com/define.php?term=\"+term.replace(' ', '%20')"
   ]
  },
  {
   "cell_type": "code",
   "execution_count": 103,
   "metadata": {},
   "outputs": [],
   "source": [
    "request = urllib.request.Request(link)\n",
    "response = urllib.request.urlopen(request).read()"
   ]
  },
  {
   "cell_type": "code",
   "execution_count": 104,
   "metadata": {},
   "outputs": [],
   "source": [
    "soup = BeautifulSoup(response)\n",
    "definitions_bs4 = soup.find('div', {'id': \"content\"})"
   ]
  },
  {
   "cell_type": "code",
   "execution_count": 105,
   "metadata": {},
   "outputs": [],
   "source": [
    "definitions = definitions_bs4.findAll('div', {'class':\"meaning\"})\n",
    "definitions[:] = [definition.text.replace(\"  \", \" \") for definition in definitions]"
   ]
  },
  {
   "cell_type": "code",
   "execution_count": 107,
   "metadata": {},
   "outputs": [
    {
     "data": {
      "text/plain": [
       "['proud black woman a woman who carries herself with pride',\n",
       " \"(n.) A female friend, that is more than one's best friend.\",\n",
       " 'a black woman who carries her self with high respect. usually brown to dark complexed women are seen as real \"sistas\"',\n",
       " 'black girl',\n",
       " 'sis-ta: A female that is of the genus bootylicious, and must possess an intact and functional set of mammary glands.',\n",
       " \"Any fatass, rude, and loudmouthed black chick who talk trash about and to anyone they don't like.\"]"
      ]
     },
     "execution_count": 107,
     "metadata": {},
     "output_type": "execute_result"
    }
   ],
   "source": [
    "definitions"
   ]
  },
  {
   "cell_type": "code",
   "execution_count": 112,
   "metadata": {},
   "outputs": [],
   "source": [
    "meanings = {}\n",
    "for n, d in enumerate(definitions):\n",
    "    meanings[n] = d"
   ]
  },
  {
   "cell_type": "code",
   "execution_count": 113,
   "metadata": {},
   "outputs": [
    {
     "data": {
      "text/plain": [
       "{0: 'proud black woman a woman who carries herself with pride',\n",
       " 1: \"(n.) A female friend, that is more than one's best friend.\",\n",
       " 2: 'a black woman who carries her self with high respect. usually brown to dark complexed women are seen as real \"sistas\"',\n",
       " 3: 'black girl',\n",
       " 4: 'sis-ta: A female that is of the genus bootylicious, and must possess an intact and functional set of mammary glands.',\n",
       " 5: \"Any fatass, rude, and loudmouthed black chick who talk trash about and to anyone they don't like.\"}"
      ]
     },
     "execution_count": 113,
     "metadata": {},
     "output_type": "execute_result"
    }
   ],
   "source": [
    "meanings"
   ]
  },
  {
   "cell_type": "code",
   "execution_count": 114,
   "metadata": {},
   "outputs": [
    {
     "data": {
      "text/plain": [
       "'proud black woman a woman who carries herself with pride'"
      ]
     },
     "execution_count": 114,
     "metadata": {},
     "output_type": "execute_result"
    }
   ],
   "source": [
    "meanings[0]"
   ]
  },
  {
   "cell_type": "code",
   "execution_count": null,
   "metadata": {},
   "outputs": [],
   "source": []
  }
 ],
 "metadata": {
  "kernelspec": {
   "display_name": "Python 3",
   "language": "python",
   "name": "python3"
  },
  "language_info": {
   "codemirror_mode": {
    "name": "ipython",
    "version": 3
   },
   "file_extension": ".py",
   "mimetype": "text/x-python",
   "name": "python",
   "nbconvert_exporter": "python",
   "pygments_lexer": "ipython3",
   "version": "3.7.1"
  }
 },
 "nbformat": 4,
 "nbformat_minor": 2
}
