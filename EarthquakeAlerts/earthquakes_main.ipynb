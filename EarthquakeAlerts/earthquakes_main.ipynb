{
 "cells": [
  {
   "cell_type": "code",
   "execution_count": 1,
   "metadata": {},
   "outputs": [],
   "source": [
    "import urllib.request\n",
    "import json\n",
    "from datetime import datetime\n",
    "\n",
    "#https://samples.openweathermap.org/data/2.5/forecast?id=524901&appid=b6907d289e10d714a6e88b30761fae22\n",
    "#https://openweathermap.org/forecast5"
   ]
  },
  {
   "cell_type": "code",
   "execution_count": 61,
   "metadata": {},
   "outputs": [],
   "source": [
    "# Help func to load the json data\n",
    "\n",
    "class Weather:\n",
    "    \n",
    "    def __init__(self, zip_code, apikey):\n",
    "        self.call_timestamp = datetime.now().strftime('%c') # generates a str datetime for when the call was made\n",
    "        \n",
    "        # Location and API Key\n",
    "        self.zip_code = zip_code\n",
    "        self.key = apikey\n",
    "        \n",
    "        # API CALL URLs\n",
    "        self.link_current = 'https://api.openweathermap.org/data/2.5/weather?zip='+str(self.zip_code)+',us&appid='+self.key\n",
    "        self.link_forcast  = 'https://api.openweathermap.org/data/2.5/forecast?zip='+str(self.zip_code)+',us&appid='+self.key\n",
    "        \n",
    "        # Make API Calls and get the JSON\n",
    "        self.current_rawJson = self.getJSON(self.link_current)\n",
    "        self.forecast_rawJson = self.getJSON(self.link_forcast)\n",
    "        \n",
    "        # temporary for testing, del later\n",
    "        self.current_parseJSON()\n",
    "        \n",
    "    def current_parseJSON(self):\n",
    "        '''Iterate through the Current Weather JSON file and collect values'''\n",
    "        \n",
    "        self.current = {key:val for (key, val) in self.current_rawJson['main'].items()}.update(\n",
    "                            {key:val for (key, val) in self.current_rawJson['wind'].items()}))\n",
    "        \n",
    "        \n",
    "        \n",
    "    def getJSON(self, link):\n",
    "        '''Make API call and return loaded JSON file'''\n",
    "        \n",
    "        request = urllib.request.Request(link)\n",
    "        response = urllib.request.urlopen(request).read()\n",
    "        return json.loads(response) # return the loaded JSON file\n"
   ]
  },
  {
   "cell_type": "code",
   "execution_count": 62,
   "metadata": {},
   "outputs": [],
   "source": [
    "OWM_API_KEY = '43c2ea8273e0030c9595a30158f74ac8'\n",
    "OWM_API_KEY2 = '656cf681304caddef9fb5b97ef7b7d4f'\n",
    "yumaZIP = 85364"
   ]
  },
  {
   "cell_type": "code",
   "execution_count": 63,
   "metadata": {},
   "outputs": [
    {
     "ename": "TypeError",
     "evalue": "'NoneType' object is not iterable",
     "output_type": "error",
     "traceback": [
      "\u001b[1;31m---------------------------------------------------------------------------\u001b[0m",
      "\u001b[1;31mTypeError\u001b[0m                                 Traceback (most recent call last)",
      "\u001b[1;32m<ipython-input-63-f2677ea07c9a>\u001b[0m in \u001b[0;36m<module>\u001b[1;34m\u001b[0m\n\u001b[1;32m----> 1\u001b[1;33m \u001b[0mYuma\u001b[0m \u001b[1;33m=\u001b[0m \u001b[0mWeather\u001b[0m\u001b[1;33m(\u001b[0m\u001b[1;36m85364\u001b[0m\u001b[1;33m,\u001b[0m \u001b[0mOWM_API_KEY\u001b[0m\u001b[1;33m)\u001b[0m\u001b[1;33m\u001b[0m\u001b[1;33m\u001b[0m\u001b[0m\n\u001b[0m\u001b[0;32m      2\u001b[0m \u001b[0mCalexico\u001b[0m \u001b[1;33m=\u001b[0m \u001b[0mWeather\u001b[0m\u001b[1;33m(\u001b[0m\u001b[1;36m92231\u001b[0m\u001b[1;33m,\u001b[0m \u001b[0mOWM_API_KEY\u001b[0m\u001b[1;33m)\u001b[0m\u001b[1;33m\u001b[0m\u001b[1;33m\u001b[0m\u001b[0m\n\u001b[0;32m      3\u001b[0m \u001b[1;33m\u001b[0m\u001b[0m\n\u001b[0;32m      4\u001b[0m \u001b[1;31m#Calexico.current\u001b[0m\u001b[1;33m\u001b[0m\u001b[1;33m\u001b[0m\u001b[1;33m\u001b[0m\u001b[0m\n\u001b[0;32m      5\u001b[0m \u001b[1;33m\u001b[0m\u001b[0m\n",
      "\u001b[1;32m<ipython-input-61-c476c5086e9f>\u001b[0m in \u001b[0;36m__init__\u001b[1;34m(self, zip_code, apikey)\u001b[0m\n\u001b[0;32m     19\u001b[0m \u001b[1;33m\u001b[0m\u001b[0m\n\u001b[0;32m     20\u001b[0m         \u001b[1;31m# temporary for testing, del later\u001b[0m\u001b[1;33m\u001b[0m\u001b[1;33m\u001b[0m\u001b[1;33m\u001b[0m\u001b[0m\n\u001b[1;32m---> 21\u001b[1;33m         \u001b[0mself\u001b[0m\u001b[1;33m.\u001b[0m\u001b[0mcurrent_parseJSON\u001b[0m\u001b[1;33m(\u001b[0m\u001b[1;33m)\u001b[0m\u001b[1;33m\u001b[0m\u001b[1;33m\u001b[0m\u001b[0m\n\u001b[0m\u001b[0;32m     22\u001b[0m \u001b[1;33m\u001b[0m\u001b[0m\n\u001b[0;32m     23\u001b[0m     \u001b[1;32mdef\u001b[0m \u001b[0mcurrent_parseJSON\u001b[0m\u001b[1;33m(\u001b[0m\u001b[0mself\u001b[0m\u001b[1;33m)\u001b[0m\u001b[1;33m:\u001b[0m\u001b[1;33m\u001b[0m\u001b[1;33m\u001b[0m\u001b[0m\n",
      "\u001b[1;32m<ipython-input-61-c476c5086e9f>\u001b[0m in \u001b[0;36mcurrent_parseJSON\u001b[1;34m(self)\u001b[0m\n\u001b[0;32m     24\u001b[0m         \u001b[1;34m'''Iterate through the Current Weather JSON file and collect values'''\u001b[0m\u001b[1;33m\u001b[0m\u001b[1;33m\u001b[0m\u001b[0m\n\u001b[0;32m     25\u001b[0m         self.current = dict(dict({key:val for (key, val) in self.current_rawJson['main'].items()}.update(\n\u001b[1;32m---> 26\u001b[1;33m                             {key:val for (key, val) in self.current_rawJson['wind'].items()})))\n\u001b[0m\u001b[0;32m     27\u001b[0m \u001b[1;33m\u001b[0m\u001b[0m\n\u001b[0;32m     28\u001b[0m \u001b[1;33m\u001b[0m\u001b[0m\n",
      "\u001b[1;31mTypeError\u001b[0m: 'NoneType' object is not iterable"
     ]
    }
   ],
   "source": [
    "Yuma = Weather(85364, OWM_API_KEY)\n",
    "Calexico = Weather(92231, OWM_API_KEY)\n",
    "\n",
    "#Calexico.current\n",
    "\n",
    "#for tag in Calexico.current: print(tag)"
   ]
  },
  {
   "cell_type": "code",
   "execution_count": 4,
   "metadata": {},
   "outputs": [],
   "source": [
    "# owm_4dayHourly_url = 'https://samples.openweathermap.org/data/2.5/forecast/hourly?zip='+str(yumaZIP)+'&appid='+OWM_API_KEY2\n",
    "\n",
    "owm_4dayHourly_url = 'https://api.openweathermap.org/data/2.5/forecast?zip='+str(yumaZIP)+',us&appid='+OWM_API_KEY\n",
    "owm_current_url = 'https://api.openweathermap.org/data/2.5/weather?zip='+str(yumaZIP)+',us&appid='+OWM_API_KEY\n",
    "\n",
    "\n",
    "request = urllib.request.Request(owm_4dayHourly_url)\n",
    "response = urllib.request.urlopen(request).read()"
   ]
  },
  {
   "cell_type": "code",
   "execution_count": 5,
   "metadata": {},
   "outputs": [],
   "source": [
    "loaded_json = json.loads(response)"
   ]
  },
  {
   "cell_type": "code",
   "execution_count": 10,
   "metadata": {},
   "outputs": [
    {
     "ename": "KeyError",
     "evalue": "'list'",
     "output_type": "error",
     "traceback": [
      "\u001b[1;31m---------------------------------------------------------------------------\u001b[0m",
      "\u001b[1;31mKeyError\u001b[0m                                  Traceback (most recent call last)",
      "\u001b[1;32m<ipython-input-10-7b084a0ebe97>\u001b[0m in \u001b[0;36m<module>\u001b[1;34m\u001b[0m\n\u001b[1;32m----> 1\u001b[1;33m \u001b[1;32mfor\u001b[0m \u001b[0mrecord\u001b[0m \u001b[1;32min\u001b[0m \u001b[0mloaded_json\u001b[0m\u001b[1;33m[\u001b[0m\u001b[1;34m'list'\u001b[0m\u001b[1;33m]\u001b[0m\u001b[1;33m:\u001b[0m\u001b[1;33m\u001b[0m\u001b[1;33m\u001b[0m\u001b[0m\n\u001b[0m\u001b[0;32m      2\u001b[0m     \u001b[0mprint\u001b[0m\u001b[1;33m(\u001b[0m\u001b[0mrecord\u001b[0m\u001b[1;33m[\u001b[0m\u001b[1;34m'dt_txt'\u001b[0m\u001b[1;33m]\u001b[0m\u001b[1;33m)\u001b[0m\u001b[1;33m\u001b[0m\u001b[1;33m\u001b[0m\u001b[0m\n",
      "\u001b[1;31mKeyError\u001b[0m: 'list'"
     ]
    }
   ],
   "source": [
    "for record in loaded_json['list']:\n",
    "    print(record['dt_txt'])"
   ]
  },
  {
   "cell_type": "code",
   "execution_count": 7,
   "metadata": {},
   "outputs": [],
   "source": [
    "request = urllib.request.Request(owm_current_url)\n",
    "response = urllib.request.urlopen(request).read()\n",
    "loaded_json = json.loads(response)"
   ]
  },
  {
   "cell_type": "code",
   "execution_count": 9,
   "metadata": {},
   "outputs": [
    {
     "name": "stdout",
     "output_type": "stream",
     "text": [
      "{'coord': {'lon': -114.66, 'lat': 32.72}, 'weather': [{'id': 800, 'main': 'Clear', 'description': 'clear sky', 'icon': '01d'}], 'base': 'stations', 'main': {'temp': 307.78, 'pressure': 1007, 'humidity': 12, 'temp_min': 307.04, 'temp_max': 308.71}, 'visibility': 11265, 'wind': {'speed': 7.7, 'deg': 150, 'gust': 11.8}, 'clouds': {'all': 1}, 'dt': 1559342001, 'sys': {'type': 1, 'id': 5136, 'message': 0.0064, 'country': 'US', 'sunrise': 1559305928, 'sunset': 1559356850}, 'timezone': -25200, 'id': 420002015, 'name': 'Yuma', 'cod': 200}\n"
     ]
    }
   ],
   "source": [
    "print(loaded_json)"
   ]
  },
  {
   "cell_type": "code",
   "execution_count": null,
   "metadata": {},
   "outputs": [],
   "source": []
  }
 ],
 "metadata": {
  "kernelspec": {
   "display_name": "Python 3",
   "language": "python",
   "name": "python3"
  },
  "language_info": {
   "codemirror_mode": {
    "name": "ipython",
    "version": 3
   },
   "file_extension": ".py",
   "mimetype": "text/x-python",
   "name": "python",
   "nbconvert_exporter": "python",
   "pygments_lexer": "ipython3",
   "version": "3.7.1"
  }
 },
 "nbformat": 4,
 "nbformat_minor": 2
}
