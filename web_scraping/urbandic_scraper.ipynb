{
 "cells": [
  {
   "cell_type": "code",
   "execution_count": 133,
   "metadata": {},
   "outputs": [],
   "source": [
    "import urllib.request\n",
    "from bs4 import BeautifulSoup"
   ]
  },
  {
   "cell_type": "code",
   "execution_count": 134,
   "metadata": {},
   "outputs": [],
   "source": [
    "class Word:\n",
    "    '''Parses and stores Urban Dictionary Definitions'''\n",
    "    def __init__(self, term):\n",
    "        # standard url with spaces replaced with appropriate url etiquette\n",
    "        self.url = \"https://www.urbandictionary.com/define.php?term=\"+term.replace(' ', '%20')\n",
    "        # definitions will be stored here as a dict after a method scrapes and parses them\n",
    "        self.meanings = {}\n",
    "        \n",
    "        # fill the meanings dict\n",
    "        self.get_meanings()\n",
    "        \n",
    "    # TODO: pull the ACTIVTY bar chart and plot it with matplotlib \n",
    "    # located in <div class=\"panel\"> under <div class=\"large-4 columns show-for-large-up\">\n",
    "        \n",
    "    def print_meanings(self):\n",
    "        for i in range(len(sista.meanings)):\n",
    "            print(i, \": \", sista.meanings[i])\n",
    "    \n",
    "    def get_meanings(self):\n",
    "        '''Convert the parsed and clean list of meanings into a dict'''\n",
    "        \n",
    "        for n, d in enumerate(self.get_defs()):\n",
    "            self.meanings[n] = d\n",
    "        \n",
    "    def get_rawhtml(self):\n",
    "        '''Use self.url to access website and pull raw html'''\n",
    "        request = urllib.request.Request(self.url)\n",
    "        return urllib.request.urlopen(request).read() # response\n",
    "    \n",
    "    def get_defs(self):\n",
    "        '''convert the raw html into a list of meanings'''\n",
    "        # get that soup. yum!\n",
    "        soup = BeautifulSoup(self.get_rawhtml())\n",
    "\n",
    "        # go to 'content' <div> where word 'meanings' are found under\n",
    "        definitions_bs4 = soup.find('div', {'id': \"content\"})\n",
    "        \n",
    "        # inside 'content' find all instances of the class meaning.\n",
    "        # Each instance contains one definition to the term\n",
    "        definitions = definitions_bs4.findAll('div', {'class':\"meaning\"})\n",
    "        \n",
    "        # in every instance replace any double space to a single space char\n",
    "        definitions[:] = [definition.text.replace(\"  \", \" \") for definition in definitions]\n",
    "        \n",
    "        return definitions"
   ]
  },
  {
   "cell_type": "code",
   "execution_count": 135,
   "metadata": {},
   "outputs": [
    {
     "name": "stdout",
     "output_type": "stream",
     "text": [
      "0 :  proud black woman a woman who carries herself with pride\n",
      "1 :  (n.) A female friend, that is more than one's best friend.\n",
      "2 :  a black woman who carries her self with high respect. usually brown to dark complexed women are seen as real \"sistas\"\n",
      "3 :  black girl\n",
      "4 :  sis-ta: A female that is of the genus bootylicious, and must possess an intact and functional set of mammary glands.\n",
      "5 :  Any fatass, rude, and loudmouthed black chick who talk trash about and to anyone they don't like.\n"
     ]
    }
   ],
   "source": [
    "sista = Word('sista')\n",
    "\n",
    "sista.print_meanings()"
   ]
  },
  {
   "cell_type": "code",
   "execution_count": null,
   "metadata": {},
   "outputs": [],
   "source": []
  }
 ],
 "metadata": {
  "kernelspec": {
   "display_name": "Python 3",
   "language": "python",
   "name": "python3"
  },
  "language_info": {
   "codemirror_mode": {
    "name": "ipython",
    "version": 3
   },
   "file_extension": ".py",
   "mimetype": "text/x-python",
   "name": "python",
   "nbconvert_exporter": "python",
   "pygments_lexer": "ipython3",
   "version": "3.7.3"
  }
 },
 "nbformat": 4,
 "nbformat_minor": 2
}
